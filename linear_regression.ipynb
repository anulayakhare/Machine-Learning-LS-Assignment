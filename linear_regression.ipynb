{
 "cells": [
  {
   "cell_type": "code",
   "execution_count": 1,
   "metadata": {},
   "outputs": [],
   "source": [
    "import numpy as np\n",
    "import pandas as pd\n",
    "import matplotlib.pyplot as plt\n",
    "\n",
    "# Aim is to predict the marks of students of the test data"
   ]
  },
  {
   "cell_type": "code",
   "execution_count": 2,
   "metadata": {},
   "outputs": [
    {
     "name": "stderr",
     "output_type": "stream",
     "text": [
      "C:\\Users\\anula\\AppData\\Local\\Temp\\ipykernel_22556\\3746479762.py:5: FutureWarning: Downcasting behavior in `replace` is deprecated and will be removed in a future version. To retain the old behavior, explicitly call `result.infer_objects(copy=False)`. To opt-in to the future behavior, set `pd.set_option('future.no_silent_downcasting', True)`\n",
      "  data.iloc[:,0] = data.iloc[:,0].replace('no', 0)\n",
      "C:\\Users\\anula\\AppData\\Local\\Temp\\ipykernel_22556\\3746479762.py:7: FutureWarning: Downcasting behavior in `replace` is deprecated and will be removed in a future version. To retain the old behavior, explicitly call `result.infer_objects(copy=False)`. To opt-in to the future behavior, set `pd.set_option('future.no_silent_downcasting', True)`\n",
      "  data.iloc[:,1] = data.iloc[:,1].replace('F', 1)\n"
     ]
    }
   ],
   "source": [
    "# Use the file namd 'training data' to train the model\n",
    "\n",
    "data = pd.read_excel(\"Training data.xlsx\")\n",
    "data.iloc[:,0] = data.iloc[:,0].replace('yes', 1)\n",
    "data.iloc[:,0] = data.iloc[:,0].replace('no', 0)\n",
    "data.iloc[:,1] = data.iloc[:,1].replace('M', 0)\n",
    "data.iloc[:,1] = data.iloc[:,1].replace('F', 1)\n",
    "x_train = np.array(data.iloc[:,0:8])\n",
    "y_train = np.array(data.iloc[:,8]).reshape(-1,1)\n",
    "\n",
    "# Try plotting y_train with different features\n",
    "# To get an idea whether to add some features or not\n",
    "# Add some features if required in x_train\n",
    "\n",
    "# Also do label encoding for features not represented in numbers\n",
    "# refer the link if not know : https://youtu.be/589nCGeWG1w?si=t2Wa7LgbUOO4RooM\n",
    "\n",
    "def feature_changing(x_train):\n",
    "  # ---------\n",
    "    # Your code here\n",
    "  # ---------\n",
    "  return x_train\n",
    "\n",
    "x_train = feature_changing(x_train)"
   ]
  },
  {
   "cell_type": "code",
   "execution_count": 3,
   "metadata": {},
   "outputs": [],
   "source": [
    "def z_score(x_train):\n",
    "\n",
    "  # ---------\n",
    "    # write the code for feature scaling here\n",
    "    # Your code here\n",
    "    x_mean = np.mean(x_train,axis=0)\n",
    "    x_std = np.std(x_train,axis=0)\n",
    "    x_train = (x_train - x_mean)/x_std\n",
    "  # ---------\n",
    "\n",
    "    return x_train,x_std,x_mean"
   ]
  },
  {
   "cell_type": "code",
   "execution_count": 4,
   "metadata": {},
   "outputs": [],
   "source": [
    "def cost(x_train,y_train,w,b):\n",
    "\n",
    "  # ---------\n",
    "    # Your code here\n",
    "    # Use mean square error as cost function\n",
    "  \n",
    "    j = np.dot(x_train,w) + b - y_train\n",
    "    j = j**2\n",
    "    j = j/1000\n",
    "    loss = np.sum(j,axis=0)\n",
    "    loss = np.squeeze(loss)\n",
    "  # ---------\n",
    "\n",
    "    return loss"
   ]
  },
  {
   "cell_type": "code",
   "execution_count": 5,
   "metadata": {},
   "outputs": [],
   "source": [
    "def gradient_descent(x_train,y_train,w,b):\n",
    "\n",
    "  # ---------\n",
    "    # Your code here\n",
    "    # Choose learning rate yourself\n",
    "    dw = (np.dot(x_train,w) - y_train + b)\n",
    "    dw = np.dot(x_train.T,dw)\n",
    "    dw /= 1000\n",
    "    db = np.dot(x_train,w) - y_train + b\n",
    "    db /= 1000\n",
    "    a = 0.1\n",
    "    new_w = w - a*dw\n",
    "    new_b = b - a*db\n",
    "    w = new_w\n",
    "    b = new_b\n",
    "  # ---------\n",
    "\n",
    "    return w,b"
   ]
  },
  {
   "cell_type": "code",
   "execution_count": 6,
   "metadata": {},
   "outputs": [
    {
     "name": "stdout",
     "output_type": "stream",
     "text": [
      "Congratulations, your accuracy is 100.0%\n"
     ]
    },
    {
     "name": "stderr",
     "output_type": "stream",
     "text": [
      "C:\\Users\\anula\\AppData\\Local\\Temp\\ipykernel_22556\\4252415425.py:16: FutureWarning: Downcasting behavior in `replace` is deprecated and will be removed in a future version. To retain the old behavior, explicitly call `result.infer_objects(copy=False)`. To opt-in to the future behavior, set `pd.set_option('future.no_silent_downcasting', True)`\n",
      "  test_data.iloc[:,0] = test_data.iloc[:,0].replace('no', 0)\n",
      "C:\\Users\\anula\\AppData\\Local\\Temp\\ipykernel_22556\\4252415425.py:18: FutureWarning: Downcasting behavior in `replace` is deprecated and will be removed in a future version. To retain the old behavior, explicitly call `result.infer_objects(copy=False)`. To opt-in to the future behavior, set `pd.set_option('future.no_silent_downcasting', True)`\n",
      "  test_data.iloc[:,1] = test_data.iloc[:,1].replace('F', 1)\n"
     ]
    }
   ],
   "source": [
    "x_train = x_train.astype(np.float64)\n",
    "x_train,x_std,x_mean = z_score(x_train)\n",
    "\n",
    "np.random.seed(2147483647)\n",
    "w = np.random.randn(x_train.shape[1],1)\n",
    "b = np.random.randn(1)\n",
    "\n",
    "old_cost = 0\n",
    "\n",
    "while abs(old_cost - cost(x_train,y_train,w,b))>0.00001:\n",
    "  old_cost = cost(x_train,y_train,w,b)\n",
    "  w,b = gradient_descent(x_train,y_train,w,b)\n",
    "\n",
    "test_data = pd.read_excel(\"Test data.xlsx\").iloc[:,:8]\n",
    "test_data.iloc[:,0] = test_data.iloc[:,0].replace('yes', 1)\n",
    "test_data.iloc[:,0] = test_data.iloc[:,0].replace('no', 0)\n",
    "test_data.iloc[:,1] = test_data.iloc[:,1].replace('M', 0)\n",
    "test_data.iloc[:,1] = test_data.iloc[:,1].replace('F', 1)\n",
    "x_predict = test_data.to_numpy()\n",
    "x_predict = feature_changing(x_predict)\n",
    "x_predict = (x_predict - x_mean)/x_std\n",
    "ans = pd.read_excel(\"Test data.xlsx\").iloc[:,8].to_numpy()\n",
    "b = b[0,0]\n",
    "\n",
    "y_predict = np.dot(x_predict,w) + b\n",
    "\n",
    "accuracy = 0\n",
    "for dim in range(len(ans)):\n",
    "  if abs(y_predict[dim]-ans[dim])<0.5: # do not change the tolerance as you'll be checked on +- 0.5 error only\n",
    "    accuracy += 1\n",
    "accuracy = round(accuracy*100/200.0,2)\n",
    "ok = 'Congratulations' if accuracy>95 else 'Optimization required'\n",
    "print(f\"{ok}, your accuracy is {accuracy}%\")"
   ]
  }
 ],
 "metadata": {
  "kernelspec": {
   "display_name": "Python 3",
   "language": "python",
   "name": "python3"
  },
  "language_info": {
   "codemirror_mode": {
    "name": "ipython",
    "version": 3
   },
   "file_extension": ".py",
   "mimetype": "text/x-python",
   "name": "python",
   "nbconvert_exporter": "python",
   "pygments_lexer": "ipython3",
   "version": "3.12.3"
  }
 },
 "nbformat": 4,
 "nbformat_minor": 2
}
